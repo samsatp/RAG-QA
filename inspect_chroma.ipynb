{
 "cells": [
  {
   "cell_type": "code",
   "execution_count": 29,
   "metadata": {},
   "outputs": [],
   "source": [
    "import pandas as pd\n",
    "\n",
    "df = pd.read_excel('RAG/results/retrieval_file_7.xlsx')\n",
    "\n",
    "questions = df.questions"
   ]
  },
  {
   "cell_type": "code",
   "execution_count": 2,
   "metadata": {},
   "outputs": [],
   "source": [
    "__import__('pysqlite3')\n",
    "import sys\n",
    "sys.modules['sqlite3'] = sys.modules.pop('pysqlite3')\n",
    "import chromadb\n",
    "client = chromadb.PersistentClient()"
   ]
  },
  {
   "cell_type": "code",
   "execution_count": 30,
   "metadata": {},
   "outputs": [],
   "source": [
    "collection = client.get_collection('collection_1')"
   ]
  },
  {
   "cell_type": "code",
   "execution_count": 6,
   "metadata": {},
   "outputs": [
    {
     "data": {
      "text/plain": [
       "{'ids': ['cf2f22a4-e52d-11ee-92f1-00155da004c0'],\n",
       " 'embeddings': None,\n",
       " 'metadatas': [{'source': 'data/covid/PMC3979752.xml.json.txt'}],\n",
       " 'documents': ['Vaccination remains most economical and effective means against respiratory diseases caused by influenza viruses  . Based on the circulating viruses in the population, trivalent vaccine strains have been developed and are used for the influenza virus protection  . The most acceptable current available strategy is the intramuscular administration of inactivated vaccines produced by egg-based manufacturing systems which while effective, are hampered by limited capacity and flexibility  . However, vaccine strains must be frequently adapted to match the circulating viruses throughout the world  . In addition, the levels of antibody induced by the inactivated vaccine have been observed to decrease by 75% over an 8-month period  ,  . Therefore, alternative strategies for developing broadly'],\n",
       " 'uris': None,\n",
       " 'data': None}"
      ]
     },
     "execution_count": 6,
     "metadata": {},
     "output_type": "execute_result"
    }
   ],
   "source": [
    "text = 'Vaccination remains most economical and effective means'\n",
    "collection.get(where_document={'$contains': text})"
   ]
  },
  {
   "cell_type": "code",
   "execution_count": 17,
   "metadata": {},
   "outputs": [
    {
     "data": {
      "text/plain": [
       "{'hnsw:space': 'cosine'}"
      ]
     },
     "execution_count": 17,
     "metadata": {},
     "output_type": "execute_result"
    }
   ],
   "source": [
    "collection.metadata"
   ]
  },
  {
   "cell_type": "code",
   "execution_count": 31,
   "metadata": {},
   "outputs": [],
   "source": [
    "model_name = 'sentence-transformers/msmarco-MiniLM-L-6-v3'\n",
    "\n",
    "from sentence_transformers import SentenceTransformer, util\n",
    "\n",
    "model = SentenceTransformer(model_name)\n",
    "\n",
    "retrieved_docs = []\n",
    "for q in questions:\n",
    "    query_embedding = model.encode(q)\n",
    "    res = collection.query(query_embeddings=[query_embedding.tolist()], include=['documents'])['documents']\n",
    "    retrieved_docs.append(res)"
   ]
  },
  {
   "cell_type": "code",
   "execution_count": 35,
   "metadata": {},
   "outputs": [
    {
     "data": {
      "text/plain": [
       "[['agents, the mechanisms of exacerbation may vary considerably in different individuals under various triggers. Acute exacerbations are usually due to the presence of environmental factors such as allergens, pollutants, smoke, cold or dry air and pathogenic microbes in the airway  . These agents elicit an immune response leading to infiltration of activated immune cells that further release inflammatory mediators that cause acute symptoms such as increased mucus production, cough, wheeze and shortness of breath. Among these agents, viral infection is one of the major drivers of asthma exacerbations accounting for up to 80–90% and 45–80% of exacerbations in children and adults respectively  . Viral involvement in COPD exacerbation is also equally high, having been detected in 30–80% of acute',\n",
       "  'the exact mechanisms underpinning viral exacerbations in susceptible subjects in order to properly manage exacerbations via supplementary treatments that may alleviate the exacerbation symptoms or prevent severe exacerbations. While the lower airway is the site of dysregulated inflammation in most chronic airway inflammatory diseases, the upper airway remains the first point of contact with sources of exacerbation. Therefore, their interaction with the exacerbation agents may directly contribute to the subsequent responses in the lower airway, in line with the “United Airway” hypothesis. To elucidate the host airway interaction with viruses leading to exacerbations, we thus focus our review on recent findings of viral interaction with the upper airway. We compiled how viral induced',\n",
       "  'vary greatly in efficacy due to the complexity and heterogeneity of the disease. This is further complicated by the effect of episodic exacerbations of the disease, defined as worsening of disease symptoms including wheeze, cough, breathlessness and chest tightness  . Such exacerbations are due to the effect of enhanced acute airway inflammation impacting upon and worsening the symptoms of the existing disease  . These acute exacerbations are the main cause of morbidity and sometimes mortality in patients, as well as resulting in major economic burdens worldwide. However, due to the complex interactions between the host and the exacerbation agents, the mechanisms of exacerbation may vary considerably in different individuals under various triggers. Acute exacerbations are usually due to',\n",
       "  'of exacerbations in children and adults respectively  . Viral involvement in COPD exacerbation is also equally high, having been detected in 30–80% of acute COPD exacerbations  . Whilst the prevalence of viral exacerbations in CRS is still unclear, its prevalence is likely to be high due to the similar inflammatory nature of these diseases  . One of the reasons for the involvement of respiratory viruses’ in exacerbations is their ease of transmission and infection  . In addition, the high diversity of the respiratory viruses may also contribute to exacerbations of different nature and severity  . Hence, it is important to identify the exact mechanisms underpinning viral exacerbations in susceptible subjects in order to properly manage exacerbations via supplementary treatments that may',\n",
       "  'with viruses leading to exacerbations, we thus focus our review on recent findings of viral interaction with the upper airway. We compiled how viral induced changes to the upper airway may contribute to chronic airway inflammatory disease exacerbations, to provide a unified elucidation of the potential exacerbation mechanisms initiated from predominantly upper airway infections. Despite being a major cause of exacerbation, reports linking respiratory viruses to acute exacerbations only start to emerge in the late 1950s  ; with bacterial infections previously considered as the likely culprit for acute exacerbation  . However, with the advent of PCR technology, more viruses were recovered during acute exacerbations events and reports implicating their role emerged in the late 1980s  .',\n",
       "  'mechanism  . Moreover, infiltrating cells in response to the infection such as neutrophils will also trigger respiratory burst as a means of increasing the ROS in the infected region. The increased ROS and oxidative stress in the local environment may serve as a trigger to promote inflammation thereby aggravating the inflammation in the airway  . A summary of potential exacerbation mechanisms and the associated viruses is shown in Figure 2 and Table 1. While the mechanisms underlying the development and acute exacerbation of chronic airway inflammatory disease is extensively studied for ways to manage and control the disease, a viral infection does more than just causing an acute exacerbation in these patients. A viral-induced acute exacerbation not only induced and worsens the symptoms',\n",
       "  'ILC2s to further secrete type 2 cytokines IL-4, IL-5, and IL-13 which further aggravate the type 2 inflammation in the airway causing acute exacerbation  . In the case of COPD, increased ILC2 activation, which retain the capability of differentiating to ILC1, may also further augment the neutrophilic response and further aggravate the exacerbation  . Interestingly, these factors are not released to any great extent and do not activate an ILC2 response during viral infection in healthy individuals  ; despite augmenting a type 2 exacerbation in chronically inflamed airways  . These classical mechanisms of viral induced acute exacerbations are summarized in Figure 1. Patients with chronic airway inflammatory diseases have impaired or reduced ability of viral clearance  . Their impairment',\n",
       "  'at the place of origin  , a pandemic starting in a far-off country will lead to multiple introductions   into the large industrialized nations where it can be expected to quickly spread to neighbouring towns and to rural areas. The large populations which have to be considered susceptible to a pandemic virus and the quick geographic spread tend to diminish the differences between the results of sophisticated individual-based and simple deterministic models. However, a deterministic model like InfluSim cannot reliably represent effects originating from stochasticity, from effects in small populations, or from heterogeneities. Examples are:   a geographically limited spread and fairly effective control measures can imply that the epidemic affects only a small population and thus, may be',\n",
       "  'the advent of PCR technology, more viruses were recovered during acute exacerbations events and reports implicating their role emerged in the late 1980s  . Rhinovirus   and respiratory syncytial virus   are the predominant viruses linked to the development and exacerbation of chronic airway inflammatory diseases  . Other viruses such as parainfluenza virus  , influenza virus   and adenovirus   have also been implicated in acute exacerbations but to a much lesser extent  . More recently, other viruses including bocavirus  , human metapneumovirus  , certain coronavirus   strains, a specific enterovirus   strain EV-D68, human cytomegalovirus   and herpes simplex virus   have been reported as contributing to acute exacerbations  . The common feature these viruses share is that they can infect',\n",
       "  'the use of new modeling approaches that involve geographical and environmental features seem to be promising in predicting potential hantavirus outbreaks and/or areas of higher risk [169–172]. Because hantaviruses are known to be directly transmitted from infected to susceptible hosts, the first natural approach is to relate outbreaks to the ecology of the viral hosts. Hantavirus transmission and persistence in rodent populations depends on several factors that interact to affect ecological dynamics of the host, which in turn is strongly influenced by the behavioral characteristics of individual rodent species, to landscape structure, and environmental features  . Viral transmission depends on contact rates among susceptible hosts, and despite the prevailing notion that a higher density']]"
      ]
     },
     "execution_count": 35,
     "metadata": {},
     "output_type": "execute_result"
    }
   ],
   "source": [
    "retrieved_docs[2]"
   ]
  },
  {
   "cell_type": "code",
   "execution_count": 33,
   "metadata": {},
   "outputs": [
    {
     "data": {
      "text/plain": [
       "0      ['mechanism  . Moreover, infiltrating cells in...\n",
       "1      ['distress  , coronavirus, and human immunodef...\n",
       "2      ['agents, the mechanisms of exacerbation may v...\n",
       "3      ['delivery vector, led to the widespread testi...\n",
       "4      ['to the empty vector may completely abrogate ...\n",
       "                             ...                        \n",
       "282    ['surveillance data are available for a popula...\n",
       "283    ['pneumococci  , Bacillus anthracis  , Haemoph...\n",
       "284    ['Mammarenaviruses   cause chronic infections ...\n",
       "285    ['of disease symptoms.   In one instance, a HC...\n",
       "286    ['was used to perform quantitative real-time P...\n",
       "Name: retrieved_docs, Length: 287, dtype: object"
      ]
     },
     "execution_count": 33,
     "metadata": {},
     "output_type": "execute_result"
    }
   ],
   "source": [
    "df.retrieved_docs"
   ]
  },
  {
   "cell_type": "code",
   "execution_count": 22,
   "metadata": {},
   "outputs": [
    {
     "name": "stdout",
     "output_type": "stream",
     "text": [
      "langchain_chroma._embedding_function.model_name='sentence-transformers/msmarco-MiniLM-L-6-v3'\n",
      "langchain_chroma._collection.name='collection_1'\n",
      "langchain_chroma._collection.metadata={'hnsw:space': 'cosine'}\n"
     ]
    }
   ],
   "source": [
    "from langchain_community.embeddings import FakeEmbeddings, HuggingFaceEmbeddings\n",
    "from langchain_community.vectorstores.chroma import Chroma\n",
    "\n",
    "def get_vectorstore(chroma_collection_name = 'collection_1',\n",
    "                    distance_fn = 'cosine',\n",
    "                    embedding_model = 'sentence-transformers/msmarco-MiniLM-L-6-v3'):\n",
    "    \n",
    "    # connect to Chroma client\n",
    "    client = chromadb.PersistentClient()\n",
    "\n",
    "    model_kwargs = {'device': 'cpu'}\n",
    "    encode_kwargs = {'normalize_embeddings': True}\n",
    "    emb_model = HuggingFaceEmbeddings(model_name=model_name,\n",
    "                                          model_kwargs=model_kwargs,\n",
    "                                          encode_kwargs=encode_kwargs)\n",
    "\n",
    "    # Langchain Chroma wrapper\n",
    "    langchain_chroma = Chroma(client=client,\n",
    "                              collection_name=chroma_collection_name,\n",
    "                              embedding_function=emb_model,\n",
    "                              collection_metadata={\"hnsw:space\": distance_fn})  \n",
    "    print(f\"{langchain_chroma._embedding_function.model_name=}\")  \n",
    "    print(f\"{langchain_chroma._collection.name=}\")  \n",
    "    print(f\"{langchain_chroma._collection.metadata=}\")  \n",
    "    return langchain_chroma\n",
    "\n",
    "vector_store = get_vectorstore()"
   ]
  },
  {
   "cell_type": "code",
   "execution_count": 25,
   "metadata": {},
   "outputs": [
    {
     "data": {
      "text/plain": [
       "[Document(page_content='political will in low- and middle-income countries to commit to immunization as a priority, social marketing to individuals and communities, strengthening health systems and promoting relevant local research and development innovations  . Maternal vaccination to prevent disease in the youngest infants has been shown to be effective for tetanus, influenza and pertussis  . Influenza vaccination during pregnancy is safe, provides reasonable maternal protection against influenza, and also protects infants for a limited period from confirmed influenza infection  . However as antibody levels drop sharply after birth, infant protection does not persist much beyond 8 weeks  . Recently respiratory syncytial virus vaccination in pregnancy has been shown to be safe and immunogenic, and a phase-3', metadata={'source': 'data/covid/PMC5608782.xml.json.txt'}),\n",
       " Document(page_content='Vaccination remains most economical and effective means against respiratory diseases caused by influenza viruses  . Based on the circulating viruses in the population, trivalent vaccine strains have been developed and are used for the influenza virus protection  . The most acceptable current available strategy is the intramuscular administration of inactivated vaccines produced by egg-based manufacturing systems which while effective, are hampered by limited capacity and flexibility  . However, vaccine strains must be frequently adapted to match the circulating viruses throughout the world  . In addition, the levels of antibody induced by the inactivated vaccine have been observed to decrease by 75% over an 8-month period  ,  . Therefore, alternative strategies for developing broadly', metadata={'source': 'data/covid/PMC3979752.xml.json.txt'}),\n",
       " Document(page_content='These subjects were infected with a community-acquired RSV infection after receiving the US National Institutes for Health     alum-precipitated RSV candidate vaccine. In contrast to influenza for which vaccines to date have shown themselves to be moderately effective but in need of improvement, RSV vaccines require substantially more research. There is currently no licensed vaccine for RSV; the most advanced candidate vaccine recently failed to show efficacy in a field study  . Effective treatments are urgently required. RSV is, even amongst healthcare professionals, considered a childhood disease and other confounders have obscured the understanding of the consequences of RSV in adults. RSV is poorly understood as a disease in the elderly  , and while the morbidity and mortality in', metadata={'source': 'data/covid/PMC6013893.xml.json.txt'}),\n",
       " Document(page_content='amplification tests   are not available or accessible  . Vaccines can prevent and protect against infection and disease occurrence when exposed to the specific pathogen of interest, especially in vulnerable populations who are more prone to severe outcomes. In the context of the current 2019-nCoV outbreak, vaccines will help control and reduce disease transmission by creating herd immunity in addition to protecting healthy individuals from infection. This decreases the effective R0 value of the disease. Nonetheless, there are social, clinical and economic hurdles for vaccine and vaccination programmes, including   the willingness of the public to undergo vaccination with a novel vaccine,   the side effects and severe adverse reactions of vaccination,   the potential difference and/or low', metadata={'source': 'data/covid/PMC7141113.xml.json.txt'})]"
      ]
     },
     "execution_count": 25,
     "metadata": {},
     "output_type": "execute_result"
    }
   ],
   "source": [
    "vector_store.similarity_search(query=text, k=4, filter=None)"
   ]
  },
  {
   "cell_type": "code",
   "execution_count": null,
   "metadata": {},
   "outputs": [],
   "source": []
  }
 ],
 "metadata": {
  "kernelspec": {
   "display_name": "venv",
   "language": "python",
   "name": "python3"
  },
  "language_info": {
   "codemirror_mode": {
    "name": "ipython",
    "version": 3
   },
   "file_extension": ".py",
   "mimetype": "text/x-python",
   "name": "python",
   "nbconvert_exporter": "python",
   "pygments_lexer": "ipython3",
   "version": "3.10.13"
  }
 },
 "nbformat": 4,
 "nbformat_minor": 2
}
