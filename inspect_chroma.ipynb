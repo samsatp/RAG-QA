{
 "cells": [
  {
   "cell_type": "code",
   "execution_count": 29,
   "metadata": {},
   "outputs": [],
   "source": [
    "import pandas as pd\n",
    "\n",
    "df = pd.read_excel('RAG/results/retrieval_file_7.xlsx')\n",
    "\n",
    "questions = df.questions"
   ]
  },
  {
   "cell_type": "code",
   "execution_count": 64,
   "metadata": {},
   "outputs": [],
   "source": [
    "__import__('pysqlite3')\n",
    "import sys\n",
    "sys.modules['sqlite3'] = sys.modules.pop('pysqlite3')\n",
    "import chromadb\n",
    "client = chromadb.PersistentClient()"
   ]
  },
  {
   "cell_type": "code",
   "execution_count": 70,
   "metadata": {},
   "outputs": [
    {
     "data": {
      "text/plain": [
       "{'hnsw:space': 'ip'}"
      ]
     },
     "execution_count": 70,
     "metadata": {},
     "output_type": "execute_result"
    }
   ],
   "source": [
    "collection = client.get_collection('collection_16')\n",
    "collection.metadata"
   ]
  },
  {
   "cell_type": "code",
   "execution_count": 76,
   "metadata": {},
   "outputs": [],
   "source": [
    "model_name = 'BAAI/bge-base-en-v1.5'\n",
    "\n",
    "from sentence_transformers import SentenceTransformer, util\n",
    "\n",
    "model = SentenceTransformer(model_name)\n",
    "\n",
    "question = 'What is the median time until death in MERS-COV?'\n",
    "\n",
    "query_embedding = model.encode(question)\n",
    "retrieved_docs = collection.query(query_embeddings=[query_embedding.tolist()], include=['documents'])['documents'][0]"
   ]
  },
  {
   "cell_type": "code",
   "execution_count": 77,
   "metadata": {},
   "outputs": [
    {
     "data": {
      "text/plain": [
       "['recovered in culture beyond four hours under any conditions  . Aerosol experiments found MERS-CoV viability only decreased 7 % at low RH at 20 °C. In comparison, influenza A virus decreased by 95 %  . MERS-CoV survival is inferior to that previously demonstrated for SARS-CoV  . For context,',\n",
       " 'of MERS-CoV has exceeded 830, with at least 288 associated deaths.62 The majority of cases have involved patients with comorbidities   and are predominately males   with a median age of 47.63,64 Fewer than 25% of patients have reported contact with animals including dromedary camels, which have',\n",
       " 'of Saudi Arabia. We found that MERS-CoV infection was found significantly in people aged between 41 and 60 years and was reported most commonly during the summer season. The odds of infection among males were found to be twice as high as that of females with suspected cases. During the study',\n",
       " 'required intensive care and 3 died. Of those who died, 2 were exposed to MERS-CoV in the 3rd trimester, and 1 was exposed during the 2nd trimester. The infant death rate for all 11 cases was 27%. Fetal survival did not appear to correlate with the timing of maternal infection and gestational age;',\n",
       " 'frame1a   [20–22]. A total of 23,646 of MERS-CoV suspected cases were included in this study, of which 52.3% were males   and 47.7% were females  . The age of individuals with suspected cases ranged between 0 to 92 years with a mean age of 43.23 and a SD of ±22.83 years. Younger patients   were',\n",
       " 'survival is inferior to that previously demonstrated for SARS-CoV  . For context, pathogenic bacteria can remain viable and airborne for 45 min in a coughed aerosol and can spread 4 m. MERS-CoV’s ability to remain viable over long time periods gives it the capacity to thoroughly contaminate a',\n",
       " 'other human so to date, the localized epidemic of MERS-CoV has not been self-sustaining [157–161]. That is to say, the basic reproduction number   - the average number of infections caused by one infected individual in a fully susceptible population – has been close to one throughout various',\n",
       " '1  . The highest prevalence of MERS-CoV infected cases   was seen in the age group 41–60 years, and most of the confirmed cases were recorded during summer. The majority consisted of non-healthcare workers  , and most were Saudi nationals  . Around 25.2% of such cases eventually died due to',\n",
       " '2012 in Saudi Arabia, following isolation of MERS-CoV from a male patient who died months earlier from severe pneumonia and multiple organ failure  . In the 8 years since then, there have been more than 2494 confirmed cases of MERS resulting in upwards of 858 deaths globally  . While 27 countries',\n",
       " 'season  . Among confirmed cases, only 25.2% were healthcare workers, whereas around 75% were non-healthcare workers. This is in agreement with the study done by Ahmad to estimate the survival rate in MERS-CoV globally prior to 26 January 2017; 86.9% were not health-care workers compared with 13.1%']"
      ]
     },
     "execution_count": 77,
     "metadata": {},
     "output_type": "execute_result"
    }
   ],
   "source": [
    "retrieved_docs"
   ]
  },
  {
   "cell_type": "code",
   "execution_count": 79,
   "metadata": {},
   "outputs": [
    {
     "data": {
      "text/plain": [
       "array([-0.44695026,  6.8437347 , -0.97145253, -2.6003458 ,  1.294803  ,\n",
       "       -3.7943788 , -2.285297  ,  0.26899815,  4.5836077 , -7.642929  ],\n",
       "      dtype=float32)"
      ]
     },
     "execution_count": 79,
     "metadata": {},
     "output_type": "execute_result"
    }
   ],
   "source": [
    "from sentence_transformers import CrossEncoder\n",
    "\n",
    "model = CrossEncoder(\"cross-encoder/ms-marco-TinyBERT-L-2-v2\")\n",
    "scores = model.predict([(question, doc) for doc in retrieved_docs])\n",
    "scores"
   ]
  },
  {
   "cell_type": "code",
   "execution_count": 55,
   "metadata": {},
   "outputs": [
    {
     "data": {
      "text/plain": [
       "'also no data on the safety in humans, reducing enthusiasm for baculovirus as a vaccine vector for influenza at this time. Newcastle disease virus   is a single-stranded, negative-sense RNA virus that causes disease in poultry. NDV has a number of appealing qualities as a vaccine vector. As an avian virus, there is little or no preexisting immunity to NDV in humans and NDV propagates to high titers in both chicken eggs and cell culture. As a paramyxovirus, there is no DNA phase in the virus'"
      ]
     },
     "execution_count": 55,
     "metadata": {},
     "output_type": "execute_result"
    }
   ],
   "source": [
    "retrieved_docs[scores.argmax()]"
   ]
  },
  {
   "cell_type": "code",
   "execution_count": 80,
   "metadata": {},
   "outputs": [],
   "source": [
    "from transformers import T5Tokenizer, T5ForConditionalGeneration\n",
    "\n",
    "\n",
    "def generate(q, doc)->str:\n",
    "    input_text = f\"\"\"answer the question based on this context: {doc} \n",
    "    question: {q}\n",
    "    answer: \"\"\"\n",
    "\n",
    "    model_name = \"google/flan-t5-base\"\n",
    "    tokenizer = T5Tokenizer.from_pretrained(model_name)\n",
    "    model = T5ForConditionalGeneration.from_pretrained(model_name)\n",
    "    input_ids = tokenizer(input_text, return_tensors=\"pt\")\n",
    "\n",
    "    outputs = model.generate(**input_ids)\n",
    "    outputs = tokenizer.decode(outputs[0], skip_special_tokens=True)\n",
    "    return outputs"
   ]
  },
  {
   "cell_type": "code",
   "execution_count": 81,
   "metadata": {},
   "outputs": [
    {
     "name": "stderr",
     "output_type": "stream",
     "text": [
      "Special tokens have been added in the vocabulary, make sure the associated word embeddings are fine-tuned or trained.\n"
     ]
    },
    {
     "data": {
      "text/plain": [
       "'47.63'"
      ]
     },
     "execution_count": 81,
     "metadata": {},
     "output_type": "execute_result"
    }
   ],
   "source": [
    "generate(q=question, doc=retrieved_docs[scores.argmax()])"
   ]
  },
  {
   "cell_type": "code",
   "execution_count": 22,
   "metadata": {},
   "outputs": [
    {
     "name": "stdout",
     "output_type": "stream",
     "text": [
      "langchain_chroma._embedding_function.model_name='sentence-transformers/msmarco-MiniLM-L-6-v3'\n",
      "langchain_chroma._collection.name='collection_1'\n",
      "langchain_chroma._collection.metadata={'hnsw:space': 'cosine'}\n"
     ]
    }
   ],
   "source": [
    "from langchain_community.embeddings import FakeEmbeddings, HuggingFaceEmbeddings\n",
    "from langchain_community.vectorstores.chroma import Chroma\n",
    "\n",
    "def get_vectorstore(chroma_collection_name = 'collection_1',\n",
    "                    distance_fn = 'cosine',\n",
    "                    embedding_model = 'sentence-transformers/msmarco-MiniLM-L-6-v3'):\n",
    "    \n",
    "    # connect to Chroma client\n",
    "    client = chromadb.PersistentClient()\n",
    "\n",
    "    model_kwargs = {'device': 'cpu'}\n",
    "    encode_kwargs = {'normalize_embeddings': True}\n",
    "    emb_model = HuggingFaceEmbeddings(model_name=model_name,\n",
    "                                          model_kwargs=model_kwargs,\n",
    "                                          encode_kwargs=encode_kwargs)\n",
    "\n",
    "    # Langchain Chroma wrapper\n",
    "    langchain_chroma = Chroma(client=client,\n",
    "                              collection_name=chroma_collection_name,\n",
    "                              embedding_function=emb_model,\n",
    "                              collection_metadata={\"hnsw:space\": distance_fn})  \n",
    "    print(f\"{langchain_chroma._embedding_function.model_name=}\")  \n",
    "    print(f\"{langchain_chroma._collection.name=}\")  \n",
    "    print(f\"{langchain_chroma._collection.metadata=}\")  \n",
    "    return langchain_chroma\n",
    "\n",
    "vector_store = get_vectorstore()"
   ]
  },
  {
   "cell_type": "code",
   "execution_count": 25,
   "metadata": {},
   "outputs": [
    {
     "data": {
      "text/plain": [
       "[Document(page_content='political will in low- and middle-income countries to commit to immunization as a priority, social marketing to individuals and communities, strengthening health systems and promoting relevant local research and development innovations  . Maternal vaccination to prevent disease in the youngest infants has been shown to be effective for tetanus, influenza and pertussis  . Influenza vaccination during pregnancy is safe, provides reasonable maternal protection against influenza, and also protects infants for a limited period from confirmed influenza infection  . However as antibody levels drop sharply after birth, infant protection does not persist much beyond 8 weeks  . Recently respiratory syncytial virus vaccination in pregnancy has been shown to be safe and immunogenic, and a phase-3', metadata={'source': 'data/covid/PMC5608782.xml.json.txt'}),\n",
       " Document(page_content='Vaccination remains most economical and effective means against respiratory diseases caused by influenza viruses  . Based on the circulating viruses in the population, trivalent vaccine strains have been developed and are used for the influenza virus protection  . The most acceptable current available strategy is the intramuscular administration of inactivated vaccines produced by egg-based manufacturing systems which while effective, are hampered by limited capacity and flexibility  . However, vaccine strains must be frequently adapted to match the circulating viruses throughout the world  . In addition, the levels of antibody induced by the inactivated vaccine have been observed to decrease by 75% over an 8-month period  ,  . Therefore, alternative strategies for developing broadly', metadata={'source': 'data/covid/PMC3979752.xml.json.txt'}),\n",
       " Document(page_content='These subjects were infected with a community-acquired RSV infection after receiving the US National Institutes for Health     alum-precipitated RSV candidate vaccine. In contrast to influenza for which vaccines to date have shown themselves to be moderately effective but in need of improvement, RSV vaccines require substantially more research. There is currently no licensed vaccine for RSV; the most advanced candidate vaccine recently failed to show efficacy in a field study  . Effective treatments are urgently required. RSV is, even amongst healthcare professionals, considered a childhood disease and other confounders have obscured the understanding of the consequences of RSV in adults. RSV is poorly understood as a disease in the elderly  , and while the morbidity and mortality in', metadata={'source': 'data/covid/PMC6013893.xml.json.txt'}),\n",
       " Document(page_content='amplification tests   are not available or accessible  . Vaccines can prevent and protect against infection and disease occurrence when exposed to the specific pathogen of interest, especially in vulnerable populations who are more prone to severe outcomes. In the context of the current 2019-nCoV outbreak, vaccines will help control and reduce disease transmission by creating herd immunity in addition to protecting healthy individuals from infection. This decreases the effective R0 value of the disease. Nonetheless, there are social, clinical and economic hurdles for vaccine and vaccination programmes, including   the willingness of the public to undergo vaccination with a novel vaccine,   the side effects and severe adverse reactions of vaccination,   the potential difference and/or low', metadata={'source': 'data/covid/PMC7141113.xml.json.txt'})]"
      ]
     },
     "execution_count": 25,
     "metadata": {},
     "output_type": "execute_result"
    }
   ],
   "source": [
    "vector_store.similarity_search(query=text, k=4, filter=None)"
   ]
  },
  {
   "cell_type": "code",
   "execution_count": 11,
   "metadata": {},
   "outputs": [],
   "source": [
    "import pandas as pd\n",
    "\n",
    "df = pd.read_csv('metrics.csv', index_col=None)"
   ]
  },
  {
   "cell_type": "code",
   "execution_count": 12,
   "metadata": {},
   "outputs": [
    {
     "data": {
      "text/html": [
       "<div>\n",
       "<style scoped>\n",
       "    .dataframe tbody tr th:only-of-type {\n",
       "        vertical-align: middle;\n",
       "    }\n",
       "\n",
       "    .dataframe tbody tr th {\n",
       "        vertical-align: top;\n",
       "    }\n",
       "\n",
       "    .dataframe thead th {\n",
       "        text-align: right;\n",
       "    }\n",
       "</style>\n",
       "<table border=\"1\" class=\"dataframe\">\n",
       "  <thead>\n",
       "    <tr style=\"text-align: right;\">\n",
       "      <th></th>\n",
       "      <th>Unnamed: 0</th>\n",
       "      <th>bleu_bleu</th>\n",
       "      <th>bleu_precisions</th>\n",
       "      <th>bleu_brevity_penalty</th>\n",
       "      <th>bleu_length_ratio</th>\n",
       "      <th>bleu_translation_length</th>\n",
       "      <th>bleu_reference_length</th>\n",
       "      <th>rouge_rouge1</th>\n",
       "      <th>rouge_rouge2</th>\n",
       "      <th>rouge_rougeL</th>\n",
       "      <th>rouge_rougeLsum</th>\n",
       "      <th>meteor_meteor</th>\n",
       "      <th>sts</th>\n",
       "    </tr>\n",
       "  </thead>\n",
       "  <tbody>\n",
       "    <tr>\n",
       "      <th>0</th>\n",
       "      <td>0</td>\n",
       "      <td>0.000000</td>\n",
       "      <td>[0.16666666666666666, 0.0, 0.0, 0.0]</td>\n",
       "      <td>5.881647e-02</td>\n",
       "      <td>0.260870</td>\n",
       "      <td>6</td>\n",
       "      <td>23</td>\n",
       "      <td>0.066667</td>\n",
       "      <td>0.000000</td>\n",
       "      <td>0.066667</td>\n",
       "      <td>0.066667</td>\n",
       "      <td>0.046948</td>\n",
       "      <td>0.258555</td>\n",
       "    </tr>\n",
       "    <tr>\n",
       "      <th>1</th>\n",
       "      <td>1</td>\n",
       "      <td>0.074274</td>\n",
       "      <td>[1.0, 1.0, 1.0, 1.0]</td>\n",
       "      <td>7.427358e-02</td>\n",
       "      <td>0.277778</td>\n",
       "      <td>5</td>\n",
       "      <td>18</td>\n",
       "      <td>0.434783</td>\n",
       "      <td>0.380952</td>\n",
       "      <td>0.434783</td>\n",
       "      <td>0.434783</td>\n",
       "      <td>0.298204</td>\n",
       "      <td>0.728408</td>\n",
       "    </tr>\n",
       "    <tr>\n",
       "      <th>2</th>\n",
       "      <td>2</td>\n",
       "      <td>0.000000</td>\n",
       "      <td>[1.0, 0.0, 0.0, 0.0]</td>\n",
       "      <td>1.000000e+00</td>\n",
       "      <td>1.000000</td>\n",
       "      <td>1</td>\n",
       "      <td>1</td>\n",
       "      <td>1.000000</td>\n",
       "      <td>0.000000</td>\n",
       "      <td>1.000000</td>\n",
       "      <td>1.000000</td>\n",
       "      <td>0.500000</td>\n",
       "      <td>0.922458</td>\n",
       "    </tr>\n",
       "    <tr>\n",
       "      <th>3</th>\n",
       "      <td>3</td>\n",
       "      <td>0.000000</td>\n",
       "      <td>[0.25, 0.0, 0.0, 0.0]</td>\n",
       "      <td>6.065307e-01</td>\n",
       "      <td>0.666667</td>\n",
       "      <td>4</td>\n",
       "      <td>6</td>\n",
       "      <td>0.181818</td>\n",
       "      <td>0.000000</td>\n",
       "      <td>0.181818</td>\n",
       "      <td>0.181818</td>\n",
       "      <td>0.086207</td>\n",
       "      <td>0.312877</td>\n",
       "    </tr>\n",
       "    <tr>\n",
       "      <th>4</th>\n",
       "      <td>4</td>\n",
       "      <td>0.000000</td>\n",
       "      <td>[1.0, 1.0, 0.0, 0.0]</td>\n",
       "      <td>5.043477e-07</td>\n",
       "      <td>0.064516</td>\n",
       "      <td>2</td>\n",
       "      <td>31</td>\n",
       "      <td>0.160000</td>\n",
       "      <td>0.086957</td>\n",
       "      <td>0.160000</td>\n",
       "      <td>0.160000</td>\n",
       "      <td>0.071293</td>\n",
       "      <td>0.414881</td>\n",
       "    </tr>\n",
       "    <tr>\n",
       "      <th>...</th>\n",
       "      <td>...</td>\n",
       "      <td>...</td>\n",
       "      <td>...</td>\n",
       "      <td>...</td>\n",
       "      <td>...</td>\n",
       "      <td>...</td>\n",
       "      <td>...</td>\n",
       "      <td>...</td>\n",
       "      <td>...</td>\n",
       "      <td>...</td>\n",
       "      <td>...</td>\n",
       "      <td>...</td>\n",
       "      <td>...</td>\n",
       "    </tr>\n",
       "    <tr>\n",
       "      <th>282</th>\n",
       "      <td>282</td>\n",
       "      <td>0.000000</td>\n",
       "      <td>[1.0, 0.0, 0.0, 0.0]</td>\n",
       "      <td>1.000000e+00</td>\n",
       "      <td>1.000000</td>\n",
       "      <td>1</td>\n",
       "      <td>1</td>\n",
       "      <td>1.000000</td>\n",
       "      <td>0.000000</td>\n",
       "      <td>1.000000</td>\n",
       "      <td>1.000000</td>\n",
       "      <td>0.500000</td>\n",
       "      <td>0.974265</td>\n",
       "    </tr>\n",
       "    <tr>\n",
       "      <th>283</th>\n",
       "      <td>283</td>\n",
       "      <td>0.000000</td>\n",
       "      <td>[0.0, 0.0, 0.0, 0.0]</td>\n",
       "      <td>2.635971e-01</td>\n",
       "      <td>0.428571</td>\n",
       "      <td>6</td>\n",
       "      <td>14</td>\n",
       "      <td>0.000000</td>\n",
       "      <td>0.000000</td>\n",
       "      <td>0.000000</td>\n",
       "      <td>0.000000</td>\n",
       "      <td>0.000000</td>\n",
       "      <td>0.209577</td>\n",
       "    </tr>\n",
       "    <tr>\n",
       "      <th>284</th>\n",
       "      <td>284</td>\n",
       "      <td>0.000000</td>\n",
       "      <td>[0.0, 0.0, 0.0, 0.0]</td>\n",
       "      <td>6.144212e-06</td>\n",
       "      <td>0.076923</td>\n",
       "      <td>1</td>\n",
       "      <td>13</td>\n",
       "      <td>0.000000</td>\n",
       "      <td>0.000000</td>\n",
       "      <td>0.000000</td>\n",
       "      <td>0.000000</td>\n",
       "      <td>0.000000</td>\n",
       "      <td>0.125022</td>\n",
       "    </tr>\n",
       "    <tr>\n",
       "      <th>285</th>\n",
       "      <td>285</td>\n",
       "      <td>0.000000</td>\n",
       "      <td>[0.0, 0.0, 0.0, 0.0]</td>\n",
       "      <td>1.000000e+00</td>\n",
       "      <td>4.000000</td>\n",
       "      <td>4</td>\n",
       "      <td>1</td>\n",
       "      <td>0.000000</td>\n",
       "      <td>0.000000</td>\n",
       "      <td>0.000000</td>\n",
       "      <td>0.000000</td>\n",
       "      <td>0.000000</td>\n",
       "      <td>0.004810</td>\n",
       "    </tr>\n",
       "    <tr>\n",
       "      <th>286</th>\n",
       "      <td>286</td>\n",
       "      <td>0.000000</td>\n",
       "      <td>[0.0, 0.0, 0.0, 0.0]</td>\n",
       "      <td>1.272634e-03</td>\n",
       "      <td>0.130435</td>\n",
       "      <td>3</td>\n",
       "      <td>23</td>\n",
       "      <td>0.000000</td>\n",
       "      <td>0.000000</td>\n",
       "      <td>0.000000</td>\n",
       "      <td>0.000000</td>\n",
       "      <td>0.000000</td>\n",
       "      <td>0.146605</td>\n",
       "    </tr>\n",
       "  </tbody>\n",
       "</table>\n",
       "<p>287 rows × 13 columns</p>\n",
       "</div>"
      ],
      "text/plain": [
       "     Unnamed: 0  bleu_bleu                       bleu_precisions  \\\n",
       "0             0   0.000000  [0.16666666666666666, 0.0, 0.0, 0.0]   \n",
       "1             1   0.074274                  [1.0, 1.0, 1.0, 1.0]   \n",
       "2             2   0.000000                  [1.0, 0.0, 0.0, 0.0]   \n",
       "3             3   0.000000                 [0.25, 0.0, 0.0, 0.0]   \n",
       "4             4   0.000000                  [1.0, 1.0, 0.0, 0.0]   \n",
       "..          ...        ...                                   ...   \n",
       "282         282   0.000000                  [1.0, 0.0, 0.0, 0.0]   \n",
       "283         283   0.000000                  [0.0, 0.0, 0.0, 0.0]   \n",
       "284         284   0.000000                  [0.0, 0.0, 0.0, 0.0]   \n",
       "285         285   0.000000                  [0.0, 0.0, 0.0, 0.0]   \n",
       "286         286   0.000000                  [0.0, 0.0, 0.0, 0.0]   \n",
       "\n",
       "     bleu_brevity_penalty  bleu_length_ratio  bleu_translation_length  \\\n",
       "0            5.881647e-02           0.260870                        6   \n",
       "1            7.427358e-02           0.277778                        5   \n",
       "2            1.000000e+00           1.000000                        1   \n",
       "3            6.065307e-01           0.666667                        4   \n",
       "4            5.043477e-07           0.064516                        2   \n",
       "..                    ...                ...                      ...   \n",
       "282          1.000000e+00           1.000000                        1   \n",
       "283          2.635971e-01           0.428571                        6   \n",
       "284          6.144212e-06           0.076923                        1   \n",
       "285          1.000000e+00           4.000000                        4   \n",
       "286          1.272634e-03           0.130435                        3   \n",
       "\n",
       "     bleu_reference_length  rouge_rouge1  rouge_rouge2  rouge_rougeL  \\\n",
       "0                       23      0.066667      0.000000      0.066667   \n",
       "1                       18      0.434783      0.380952      0.434783   \n",
       "2                        1      1.000000      0.000000      1.000000   \n",
       "3                        6      0.181818      0.000000      0.181818   \n",
       "4                       31      0.160000      0.086957      0.160000   \n",
       "..                     ...           ...           ...           ...   \n",
       "282                      1      1.000000      0.000000      1.000000   \n",
       "283                     14      0.000000      0.000000      0.000000   \n",
       "284                     13      0.000000      0.000000      0.000000   \n",
       "285                      1      0.000000      0.000000      0.000000   \n",
       "286                     23      0.000000      0.000000      0.000000   \n",
       "\n",
       "     rouge_rougeLsum  meteor_meteor       sts  \n",
       "0           0.066667       0.046948  0.258555  \n",
       "1           0.434783       0.298204  0.728408  \n",
       "2           1.000000       0.500000  0.922458  \n",
       "3           0.181818       0.086207  0.312877  \n",
       "4           0.160000       0.071293  0.414881  \n",
       "..               ...            ...       ...  \n",
       "282         1.000000       0.500000  0.974265  \n",
       "283         0.000000       0.000000  0.209577  \n",
       "284         0.000000       0.000000  0.125022  \n",
       "285         0.000000       0.000000  0.004810  \n",
       "286         0.000000       0.000000  0.146605  \n",
       "\n",
       "[287 rows x 13 columns]"
      ]
     },
     "execution_count": 12,
     "metadata": {},
     "output_type": "execute_result"
    }
   ],
   "source": [
    "df"
   ]
  },
  {
   "cell_type": "code",
   "execution_count": 85,
   "metadata": {},
   "outputs": [
    {
     "name": "stderr",
     "output_type": "stream",
     "text": [
      "Some weights of T5ForQuestionAnswering were not initialized from the model checkpoint at google/flan-t5-base and are newly initialized: ['qa_outputs.bias', 'qa_outputs.weight']\n",
      "You should probably TRAIN this model on a down-stream task to be able to use it for predictions and inference.\n"
     ]
    },
    {
     "data": {
      "text/plain": [
       "'google/flan-t5-base'"
      ]
     },
     "execution_count": 85,
     "metadata": {},
     "output_type": "execute_result"
    }
   ],
   "source": [
    "from transformers import AutoModelForQuestionAnswering\n",
    "\n",
    "model = AutoModelForQuestionAnswering.from_pretrained('google/flan-t5-base')\n",
    "model.name_or_path"
   ]
  },
  {
   "cell_type": "code",
   "execution_count": 11,
   "metadata": {},
   "outputs": [],
   "source": [
    "import uuid\n",
    "\n",
    "def get_new_row(aa):\n",
    "    return dict(dd=str(uuid.uuid4()), aa=aa)"
   ]
  },
  {
   "cell_type": "code",
   "execution_count": 36,
   "metadata": {},
   "outputs": [],
   "source": [
    "path = 'texxxxst.jsonl'"
   ]
  },
  {
   "cell_type": "code",
   "execution_count": 13,
   "metadata": {},
   "outputs": [],
   "source": [
    "import json\n",
    "\n",
    "def insert(row):\n",
    "    with open(path, mode='a') as f:\n",
    "        f.write(json.dumps(row) + '\\n')"
   ]
  },
  {
   "cell_type": "code",
   "execution_count": 37,
   "metadata": {},
   "outputs": [],
   "source": [
    "insert(get_new_row(99))"
   ]
  },
  {
   "cell_type": "code",
   "execution_count": 19,
   "metadata": {},
   "outputs": [],
   "source": [
    "def get():\n",
    "    with open(path, mode='r') as f:\n",
    "        data = [json.loads(row.strip()) for row in f.readlines()]\n"
   ]
  },
  {
   "cell_type": "code",
   "execution_count": 20,
   "metadata": {},
   "outputs": [],
   "source": [
    "db = get()"
   ]
  },
  {
   "cell_type": "code",
   "execution_count": 23,
   "metadata": {},
   "outputs": [],
   "source": [
    "db.append({\n",
    "    'dd':'b66bb06a-07de-4f9b-94bd-2d46b02e23cb', 'aa': 99\n",
    "})"
   ]
  },
  {
   "cell_type": "code",
   "execution_count": 24,
   "metadata": {},
   "outputs": [],
   "source": [
    "def update(index, key, value):\n",
    "    for e in db:\n",
    "        if e['dd'] == index:\n",
    "            row = e.copy()\n",
    "\n",
    "    row[key] = value\n",
    "    insert(row)"
   ]
  },
  {
   "cell_type": "code",
   "execution_count": 25,
   "metadata": {},
   "outputs": [
    {
     "data": {
      "text/plain": [
       "[{'dd': 'b66bb06a-07de-4f9b-94bd-2d46b02e23cb', 'aa': 23},\n",
       " {'dd': 'eb3140d5-afbd-4178-bb5b-3fbb51f3c32b', 'aa': 99},\n",
       " {'dd': 'b66bb06a-07de-4f9b-94bd-2d46b02e23cb', 'aa': 99}]"
      ]
     },
     "execution_count": 25,
     "metadata": {},
     "output_type": "execute_result"
    }
   ],
   "source": [
    "db"
   ]
  },
  {
   "cell_type": "code",
   "execution_count": 30,
   "metadata": {},
   "outputs": [],
   "source": [
    "update('b66bb06a-07de-4f9b-94bd-2d46b02e23cb','aa','xxxx')"
   ]
  },
  {
   "cell_type": "code",
   "execution_count": 31,
   "metadata": {},
   "outputs": [],
   "source": [
    "db = get()"
   ]
  },
  {
   "cell_type": "code",
   "execution_count": 32,
   "metadata": {},
   "outputs": [
    {
     "data": {
      "text/plain": [
       "[{'dd': 'b66bb06a-07de-4f9b-94bd-2d46b02e23cb', 'aa': 23},\n",
       " {'dd': 'eb3140d5-afbd-4178-bb5b-3fbb51f3c32b', 'aa': 99},\n",
       " {'dd': 'b66bb06a-07de-4f9b-94bd-2d46b02e23cb', 'aa': 876},\n",
       " {'dd': 'b66bb06a-07de-4f9b-94bd-2d46b02e23cb', 'aa': 'xxxx'}]"
      ]
     },
     "execution_count": 32,
     "metadata": {},
     "output_type": "execute_result"
    }
   ],
   "source": [
    "db"
   ]
  },
  {
   "cell_type": "code",
   "execution_count": 33,
   "metadata": {},
   "outputs": [],
   "source": [
    "x = dict()\n",
    "def test(**kwa):\n",
    "    for k,v in kwa.items():\n",
    "        x[k] = v"
   ]
  },
  {
   "cell_type": "code",
   "execution_count": 34,
   "metadata": {},
   "outputs": [],
   "source": [
    "test(a=1, b=2)"
   ]
  },
  {
   "cell_type": "code",
   "execution_count": 35,
   "metadata": {},
   "outputs": [
    {
     "data": {
      "text/plain": [
       "{'a': 1, 'b': 2}"
      ]
     },
     "execution_count": 35,
     "metadata": {},
     "output_type": "execute_result"
    }
   ],
   "source": [
    "x"
   ]
  },
  {
   "cell_type": "code",
   "execution_count": null,
   "metadata": {},
   "outputs": [],
   "source": []
  }
 ],
 "metadata": {
  "kernelspec": {
   "display_name": "venv",
   "language": "python",
   "name": "python3"
  },
  "language_info": {
   "codemirror_mode": {
    "name": "ipython",
    "version": 3
   },
   "file_extension": ".py",
   "mimetype": "text/x-python",
   "name": "python",
   "nbconvert_exporter": "python",
   "pygments_lexer": "ipython3",
   "version": "3.10.13"
  }
 },
 "nbformat": 4,
 "nbformat_minor": 2
}
